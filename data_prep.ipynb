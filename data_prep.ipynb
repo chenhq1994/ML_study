{
 "cells": [
  {
   "cell_type": "code",
   "execution_count": 1,
   "metadata": {},
   "outputs": [],
   "source": [
    "import pandas as pd\n",
    "import numpy as np\n",
    "import seaborn as sns\n",
    "import matplotlib.pyplot as plt\n",
    "%matplotlib inline"
   ]
  },
  {
   "cell_type": "code",
   "execution_count": 2,
   "metadata": {},
   "outputs": [],
   "source": [
    "df=pd.read_csv('train_┤≤╩»╬≈┬╖.csv')"
   ]
  },
  {
   "cell_type": "code",
   "execution_count": 3,
   "metadata": {},
   "outputs": [
    {
     "data": {
      "text/html": [
       "<div>\n",
       "<style scoped>\n",
       "    .dataframe tbody tr th:only-of-type {\n",
       "        vertical-align: middle;\n",
       "    }\n",
       "\n",
       "    .dataframe tbody tr th {\n",
       "        vertical-align: top;\n",
       "    }\n",
       "\n",
       "    .dataframe thead th {\n",
       "        text-align: right;\n",
       "    }\n",
       "</style>\n",
       "<table border=\"1\" class=\"dataframe\">\n",
       "  <thead>\n",
       "    <tr style=\"text-align: right;\">\n",
       "      <th></th>\n",
       "      <th>MN_</th>\n",
       "      <th>DATA_TIME_</th>\n",
       "      <th>C_SO2_1H</th>\n",
       "      <th>I_SO2_1H</th>\n",
       "      <th>C_NO2_1H</th>\n",
       "      <th>I_NO2_1H</th>\n",
       "      <th>C_PM10_1H</th>\n",
       "      <th>C_PM10_24H_MV</th>\n",
       "      <th>I_PM10_24H_MV</th>\n",
       "      <th>C_CO1_1H</th>\n",
       "      <th>...</th>\n",
       "      <th>C_PM25_24H_MV</th>\n",
       "      <th>I_PM25_24H_MV</th>\n",
       "      <th>AQI_</th>\n",
       "      <th>PRIMARY_POLLUTANTS_</th>\n",
       "      <th>LEVEL_</th>\n",
       "      <th>CATEGORY_</th>\n",
       "      <th>COLOR_</th>\n",
       "      <th>STATE_</th>\n",
       "      <th>SOURCE_</th>\n",
       "      <th>UPDATE_TIME_</th>\n",
       "    </tr>\n",
       "  </thead>\n",
       "  <tbody>\n",
       "    <tr>\n",
       "      <th>0</th>\n",
       "      <td>51010501002</td>\n",
       "      <td>2017/1/1 01:00:00</td>\n",
       "      <td>NaN</td>\n",
       "      <td>NaN</td>\n",
       "      <td>NaN</td>\n",
       "      <td>NaN</td>\n",
       "      <td>NaN</td>\n",
       "      <td>NaN</td>\n",
       "      <td>NaN</td>\n",
       "      <td>NaN</td>\n",
       "      <td>...</td>\n",
       "      <td>NaN</td>\n",
       "      <td>NaN</td>\n",
       "      <td>NaN</td>\n",
       "      <td>NaN</td>\n",
       "      <td>NaN</td>\n",
       "      <td>NaN</td>\n",
       "      <td>NaN</td>\n",
       "      <td>正常</td>\n",
       "      <td>NaN</td>\n",
       "      <td>2017/1/1 02:15:00</td>\n",
       "    </tr>\n",
       "    <tr>\n",
       "      <th>1</th>\n",
       "      <td>51010501002</td>\n",
       "      <td>2017/1/1 02:00:00</td>\n",
       "      <td>NaN</td>\n",
       "      <td>NaN</td>\n",
       "      <td>NaN</td>\n",
       "      <td>NaN</td>\n",
       "      <td>NaN</td>\n",
       "      <td>NaN</td>\n",
       "      <td>NaN</td>\n",
       "      <td>NaN</td>\n",
       "      <td>...</td>\n",
       "      <td>NaN</td>\n",
       "      <td>NaN</td>\n",
       "      <td>NaN</td>\n",
       "      <td>NaN</td>\n",
       "      <td>NaN</td>\n",
       "      <td>NaN</td>\n",
       "      <td>NaN</td>\n",
       "      <td>正常</td>\n",
       "      <td>NaN</td>\n",
       "      <td>2017/1/1 03:15:00</td>\n",
       "    </tr>\n",
       "    <tr>\n",
       "      <th>2</th>\n",
       "      <td>51010501002</td>\n",
       "      <td>2017/1/1 03:00:00</td>\n",
       "      <td>NaN</td>\n",
       "      <td>NaN</td>\n",
       "      <td>NaN</td>\n",
       "      <td>NaN</td>\n",
       "      <td>NaN</td>\n",
       "      <td>NaN</td>\n",
       "      <td>NaN</td>\n",
       "      <td>NaN</td>\n",
       "      <td>...</td>\n",
       "      <td>NaN</td>\n",
       "      <td>NaN</td>\n",
       "      <td>NaN</td>\n",
       "      <td>NaN</td>\n",
       "      <td>NaN</td>\n",
       "      <td>NaN</td>\n",
       "      <td>NaN</td>\n",
       "      <td>正常</td>\n",
       "      <td>NaN</td>\n",
       "      <td>2017/1/1 04:15:00</td>\n",
       "    </tr>\n",
       "    <tr>\n",
       "      <th>3</th>\n",
       "      <td>51010501002</td>\n",
       "      <td>2017/1/1 04:00:00</td>\n",
       "      <td>20.0</td>\n",
       "      <td>7.0</td>\n",
       "      <td>81.0</td>\n",
       "      <td>41.0</td>\n",
       "      <td>302.0</td>\n",
       "      <td>NaN</td>\n",
       "      <td>176.0</td>\n",
       "      <td>1.174</td>\n",
       "      <td>...</td>\n",
       "      <td>NaN</td>\n",
       "      <td>195.0</td>\n",
       "      <td>195.0</td>\n",
       "      <td>PM2.5</td>\n",
       "      <td>四级</td>\n",
       "      <td>中度污染</td>\n",
       "      <td>红色</td>\n",
       "      <td>正常</td>\n",
       "      <td>NaN</td>\n",
       "      <td>2017/1/1 05:15:00</td>\n",
       "    </tr>\n",
       "    <tr>\n",
       "      <th>4</th>\n",
       "      <td>51010501002</td>\n",
       "      <td>2017/1/1 05:00:00</td>\n",
       "      <td>31.0</td>\n",
       "      <td>11.0</td>\n",
       "      <td>78.0</td>\n",
       "      <td>39.0</td>\n",
       "      <td>289.0</td>\n",
       "      <td>NaN</td>\n",
       "      <td>170.0</td>\n",
       "      <td>1.028</td>\n",
       "      <td>...</td>\n",
       "      <td>NaN</td>\n",
       "      <td>189.0</td>\n",
       "      <td>189.0</td>\n",
       "      <td>PM2.5</td>\n",
       "      <td>四级</td>\n",
       "      <td>中度污染</td>\n",
       "      <td>红色</td>\n",
       "      <td>正常</td>\n",
       "      <td>NaN</td>\n",
       "      <td>2017/1/1 06:15:00</td>\n",
       "    </tr>\n",
       "  </tbody>\n",
       "</table>\n",
       "<p>5 rows × 26 columns</p>\n",
       "</div>"
      ],
      "text/plain": [
       "           MN_         DATA_TIME_  C_SO2_1H  I_SO2_1H  C_NO2_1H  I_NO2_1H  \\\n",
       "0  51010501002  2017/1/1 01:00:00       NaN       NaN       NaN       NaN   \n",
       "1  51010501002  2017/1/1 02:00:00       NaN       NaN       NaN       NaN   \n",
       "2  51010501002  2017/1/1 03:00:00       NaN       NaN       NaN       NaN   \n",
       "3  51010501002  2017/1/1 04:00:00      20.0       7.0      81.0      41.0   \n",
       "4  51010501002  2017/1/1 05:00:00      31.0      11.0      78.0      39.0   \n",
       "\n",
       "   C_PM10_1H  C_PM10_24H_MV  I_PM10_24H_MV  C_CO1_1H  ...  C_PM25_24H_MV  \\\n",
       "0        NaN            NaN            NaN       NaN  ...            NaN   \n",
       "1        NaN            NaN            NaN       NaN  ...            NaN   \n",
       "2        NaN            NaN            NaN       NaN  ...            NaN   \n",
       "3      302.0            NaN          176.0     1.174  ...            NaN   \n",
       "4      289.0            NaN          170.0     1.028  ...            NaN   \n",
       "\n",
       "   I_PM25_24H_MV   AQI_  PRIMARY_POLLUTANTS_  LEVEL_  CATEGORY_  COLOR_  \\\n",
       "0            NaN    NaN                  NaN     NaN        NaN     NaN   \n",
       "1            NaN    NaN                  NaN     NaN        NaN     NaN   \n",
       "2            NaN    NaN                  NaN     NaN        NaN     NaN   \n",
       "3          195.0  195.0                PM2.5      四级       中度污染      红色   \n",
       "4          189.0  189.0                PM2.5      四级       中度污染      红色   \n",
       "\n",
       "   STATE_  SOURCE_       UPDATE_TIME_  \n",
       "0      正常      NaN  2017/1/1 02:15:00  \n",
       "1      正常      NaN  2017/1/1 03:15:00  \n",
       "2      正常      NaN  2017/1/1 04:15:00  \n",
       "3      正常      NaN  2017/1/1 05:15:00  \n",
       "4      正常      NaN  2017/1/1 06:15:00  \n",
       "\n",
       "[5 rows x 26 columns]"
      ]
     },
     "execution_count": 3,
     "metadata": {},
     "output_type": "execute_result"
    }
   ],
   "source": [
    "df.head()"
   ]
  },
  {
   "cell_type": "code",
   "execution_count": 4,
   "metadata": {},
   "outputs": [
    {
     "name": "stdout",
     "output_type": "stream",
     "text": [
      "<class 'pandas.core.frame.DataFrame'>\n",
      "RangeIndex: 8380 entries, 0 to 8379\n",
      "Data columns (total 26 columns):\n",
      " #   Column               Non-Null Count  Dtype  \n",
      "---  ------               --------------  -----  \n",
      " 0   MN_                  8380 non-null   int64  \n",
      " 1   DATA_TIME_           8380 non-null   object \n",
      " 2   C_SO2_1H             8161 non-null   float64\n",
      " 3   I_SO2_1H             8158 non-null   float64\n",
      " 4   C_NO2_1H             8159 non-null   float64\n",
      " 5   I_NO2_1H             8156 non-null   float64\n",
      " 6   C_PM10_1H            8129 non-null   float64\n",
      " 7   C_PM10_24H_MV        0 non-null      float64\n",
      " 8   I_PM10_24H_MV        8126 non-null   float64\n",
      " 9   C_CO1_1H             8164 non-null   float64\n",
      " 10  I_CO1_1H             8161 non-null   float64\n",
      " 11  C_O3_1H              8154 non-null   float64\n",
      " 12  I_O3_1H              8151 non-null   float64\n",
      " 13  C_O3_8H_MV           0 non-null      float64\n",
      " 14  I_O3_8H_MV           0 non-null      float64\n",
      " 15  C_PM25_1H            8138 non-null   float64\n",
      " 16  C_PM25_24H_MV        0 non-null      float64\n",
      " 17  I_PM25_24H_MV        8135 non-null   float64\n",
      " 18  AQI_                 8183 non-null   float64\n",
      " 19  PRIMARY_POLLUTANTS_  8183 non-null   object \n",
      " 20  LEVEL_               8183 non-null   object \n",
      " 21  CATEGORY_            8183 non-null   object \n",
      " 22  COLOR_               8183 non-null   object \n",
      " 23  STATE_               8380 non-null   object \n",
      " 24  SOURCE_              0 non-null      float64\n",
      " 25  UPDATE_TIME_         8380 non-null   object \n",
      "dtypes: float64(18), int64(1), object(7)\n",
      "memory usage: 1.7+ MB\n"
     ]
    }
   ],
   "source": [
    "df.info()"
   ]
  },
  {
   "cell_type": "code",
   "execution_count": 5,
   "metadata": {},
   "outputs": [
    {
     "data": {
      "text/plain": [
       "1"
      ]
     },
     "execution_count": 5,
     "metadata": {},
     "output_type": "execute_result"
    }
   ],
   "source": [
    "df2=pd.read_csv('train_┴·╚¬µΣ╟°╒■╕«.csv')\n",
    "df3=pd.read_csv('train_┴Θ╤╥╦┬.csv')\n",
    "df4=pd.read_csv('train_╔│║╙╞╠.csv')\n",
    "df5=pd.read_csv('train_╚²═▀╥ñ.csv')\n",
    "df6=pd.read_csv('train_╛²╞╜╜╓.csv')\n",
    "df7=pd.read_csv('train_╜≡╚¬┴╜║╙.csv')\n",
    "df8=pd.read_csv('train_╩«└∩╡Ω.csv')\n",
    "df['MN_'].nunique()"
   ]
  },
  {
   "cell_type": "code",
   "execution_count": 6,
   "metadata": {},
   "outputs": [
    {
     "name": "stdout",
     "output_type": "stream",
     "text": [
      "<class 'pandas.core.frame.DataFrame'>\n",
      "Int64Index: 59974 entries, 0 to 8380\n",
      "Data columns (total 26 columns):\n",
      " #   Column               Non-Null Count  Dtype  \n",
      "---  ------               --------------  -----  \n",
      " 0   MN_                  59974 non-null  int64  \n",
      " 1   DATA_TIME_           59974 non-null  object \n",
      " 2   C_SO2_1H             54053 non-null  float64\n",
      " 3   I_SO2_1H             54011 non-null  float64\n",
      " 4   C_NO2_1H             56883 non-null  float64\n",
      " 5   I_NO2_1H             56841 non-null  float64\n",
      " 6   C_PM10_1H            56068 non-null  float64\n",
      " 7   C_PM10_24H_MV        0 non-null      float64\n",
      " 8   I_PM10_24H_MV        56026 non-null  float64\n",
      " 9   C_CO1_1H             56926 non-null  float64\n",
      " 10  I_CO1_1H             56884 non-null  float64\n",
      " 11  C_O3_1H              52302 non-null  float64\n",
      " 12  I_O3_1H              52260 non-null  float64\n",
      " 13  C_O3_8H_MV           0 non-null      float64\n",
      " 14  I_O3_8H_MV           0 non-null      float64\n",
      " 15  C_PM25_1H            56641 non-null  float64\n",
      " 16  C_PM25_24H_MV        0 non-null      float64\n",
      " 17  I_PM25_24H_MV        56599 non-null  float64\n",
      " 18  AQI_                 57215 non-null  float64\n",
      " 19  PRIMARY_POLLUTANTS_  57215 non-null  object \n",
      " 20  LEVEL_               57215 non-null  object \n",
      " 21  CATEGORY_            57215 non-null  object \n",
      " 22  COLOR_               57215 non-null  object \n",
      " 23  STATE_               59974 non-null  object \n",
      " 24  SOURCE_              0 non-null      float64\n",
      " 25  UPDATE_TIME_         59974 non-null  object \n",
      "dtypes: float64(18), int64(1), object(7)\n",
      "memory usage: 12.4+ MB\n"
     ]
    }
   ],
   "source": [
    "dataframe=pd.concat([df,df2,df3,df4,df5,df6,df7,df8])\n",
    "dataframe.info()"
   ]
  },
  {
   "cell_type": "code",
   "execution_count": 7,
   "metadata": {},
   "outputs": [
    {
     "data": {
      "text/plain": [
       "51010801001    8381\n",
       "51010901001    8380\n",
       "51010501001    8380\n",
       "51010501002    8380\n",
       "51010101001    8380\n",
       "51010401001    8379\n",
       "51010601002    8377\n",
       "51011201004    1317\n",
       "Name: MN_, dtype: int64"
      ]
     },
     "execution_count": 7,
     "metadata": {},
     "output_type": "execute_result"
    }
   ],
   "source": [
    "dataframe['MN_'].value_counts()"
   ]
  },
  {
   "cell_type": "code",
   "execution_count": 8,
   "metadata": {},
   "outputs": [
    {
     "data": {
      "text/plain": [
       "<matplotlib.axes._subplots.AxesSubplot at 0x1cac8895cc8>"
      ]
     },
     "execution_count": 8,
     "metadata": {},
     "output_type": "execute_result"
    },
    {
     "data": {
      "image/png": "[encoded data removed]",
      "text/plain": [
       "<Figure size 720x360 with 1 Axes>"
      ]
     },
     "metadata": {
      "needs_background": "light"
     },
     "output_type": "display_data"
    }
   ],
   "source": [
    "plt.figure(figsize=(10,5))\n",
    "sns.heatmap(dataframe.isnull(),yticklabels=False,cbar=False,cmap='viridis')"
   ]
  },
  {
   "cell_type": "code",
   "execution_count": 9,
   "metadata": {},
   "outputs": [],
   "source": [
    "dataframe.drop(['C_PM10_24H_MV','C_O3_8H_MV','I_O3_8H_MV','C_PM25_24H_MV','SOURCE_'],axis=1,inplace=True)"
   ]
  },
  {
   "cell_type": "code",
   "execution_count": 10,
   "metadata": {},
   "outputs": [
    {
     "data": {
      "text/plain": [
       "<matplotlib.axes._subplots.AxesSubplot at 0x1cacb94d708>"
      ]
     },
     "execution_count": 10,
     "metadata": {},
     "output_type": "execute_result"
    },
    {
     "data": {
      "image/png": "[encoded data removed]",
      "text/plain": [
       "<Figure size 720x360 with 1 Axes>"
      ]
     },
     "metadata": {
      "needs_background": "light"
     },
     "output_type": "display_data"
    }
   ],
   "source": [
    "plt.figure(figsize=(10,5))\n",
    "sns.heatmap(dataframe.isnull(),yticklabels=False,cbar=False,cmap='viridis')"
   ]
  },
  {
   "cell_type": "code",
   "execution_count": 11,
   "metadata": {},
   "outputs": [
    {
     "data": {
      "text/plain": [
       "<matplotlib.axes._subplots.AxesSubplot at 0x1cacbaacec8>"
      ]
     },
     "execution_count": 11,
     "metadata": {},
     "output_type": "execute_result"
    },
    {
     "data": {
      "image/png": "[encoded data removed]",
      "text/plain": [
       "<Figure size 432x288 with 1 Axes>"
      ]
     },
     "metadata": {
      "needs_background": "light"
     },
     "output_type": "display_data"
    }
   ],
   "source": [
    "dataframe.dropna(axis=0,how='any',inplace=True)\n",
    "sns.heatmap(dataframe.isnull(),yticklabels=False,cbar=False,cmap='viridis')"
   ]
  },
  {
   "cell_type": "code",
   "execution_count": 12,
   "metadata": {},
   "outputs": [
    {
     "data": {
      "text/plain": [
       "51010401001    8083\n",
       "51010901001    8041\n",
       "51010801001    8003\n",
       "51010501002    7978\n",
       "51010501001    7867\n",
       "51010601002    7812\n",
       "51010101001    1289\n",
       "51011201004    1240\n",
       "Name: MN_, dtype: int64"
      ]
     },
     "execution_count": 12,
     "metadata": {},
     "output_type": "execute_result"
    }
   ],
   "source": [
    "dataframe['MN_'].value_counts()"
   ]
  },
  {
   "cell_type": "code",
   "execution_count": 19,
   "metadata": {},
   "outputs": [
    {
     "data": {
      "text/plain": [
       "<seaborn.axisgrid.JointGrid at 0x1caef0d5088>"
      ]
     },
     "execution_count": 19,
     "metadata": {},
     "output_type": "execute_result"
    },
    {
     "data": {
      "image/png": "[encoded data removed]",
      "text/plain": [
       "<Figure size 432x432 with 3 Axes>"
      ]
     },
     "metadata": {
      "needs_background": "light"
     },
     "output_type": "display_data"
    }
   ],
   "source": [
    "sns.jointplot('AQI_','C_PM10_1H',data=dataframe)"
   ]
  },
  {
   "cell_type": "code",
   "execution_count": 20,
   "metadata": {},
   "outputs": [],
   "source": [
    "dataframe.to_csv('dataset_inone.csv')"
   ]
  },
  {
   "cell_type": "code",
   "execution_count": 23,
   "metadata": {},
   "outputs": [
    {
     "name": "stdout",
     "output_type": "stream",
     "text": [
      "<class 'pandas.core.frame.DataFrame'>\n",
      "RangeIndex: 50313 entries, 0 to 50312\n",
      "Data columns (total 22 columns):\n",
      " #   Column               Non-Null Count  Dtype  \n",
      "---  ------               --------------  -----  \n",
      " 0   Unnamed: 0           50313 non-null  int64  \n",
      " 1   MN_                  50313 non-null  int64  \n",
      " 2   DATA_TIME_           50313 non-null  object \n",
      " 3   C_SO2_1H             50313 non-null  float64\n",
      " 4   I_SO2_1H             50313 non-null  float64\n",
      " 5   C_NO2_1H             50313 non-null  float64\n",
      " 6   I_NO2_1H             50313 non-null  float64\n",
      " 7   C_PM10_1H            50313 non-null  float64\n",
      " 8   I_PM10_24H_MV        50313 non-null  float64\n",
      " 9   C_CO1_1H             50313 non-null  float64\n",
      " 10  I_CO1_1H             50313 non-null  float64\n",
      " 11  C_O3_1H              50313 non-null  float64\n",
      " 12  I_O3_1H              50313 non-null  float64\n",
      " 13  C_PM25_1H            50313 non-null  float64\n",
      " 14  I_PM25_24H_MV        50313 non-null  float64\n",
      " 15  AQI_                 50313 non-null  float64\n",
      " 16  PRIMARY_POLLUTANTS_  50313 non-null  object \n",
      " 17  LEVEL_               50313 non-null  object \n",
      " 18  CATEGORY_            50313 non-null  object \n",
      " 19  COLOR_               50313 non-null  object \n",
      " 20  STATE_               50313 non-null  object \n",
      " 21  UPDATE_TIME_         50313 non-null  object \n",
      "dtypes: float64(13), int64(2), object(7)\n",
      "memory usage: 8.4+ MB\n"
     ]
    }
   ],
   "source": [
    "dd=pd.read_csv('dataset_inone.csv')\n",
    "dd.info()"
   ]
  },
  {
   "cell_type": "code",
   "execution_count": null,
   "metadata": {},
   "outputs": [],
   "source": []
  }
 ],
 "metadata": {
  "kernelspec": {
   "display_name": "Python 3",
   "language": "python",
   "name": "python3"
  },
  "language_info": {
   "codemirror_mode": {
    "name": "ipython",
    "version": 3
   },
   "file_extension": ".py",
   "mimetype": "text/x-python",
   "name": "python",
   "nbconvert_exporter": "python",
   "pygments_lexer": "ipython3",
   "version": "3.7.6"
  }
 },
 "nbformat": 4,
 "nbformat_minor": 4
}
